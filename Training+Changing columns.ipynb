{
 "cells": [
  {
   "cell_type": "code",
   "execution_count": 1,
   "metadata": {},
   "outputs": [
    {
     "name": "stderr",
     "output_type": "stream",
     "text": [
      "c:\\Users\\Mat\\miniconda3\\envs\\ml\\lib\\site-packages\\xgboost\\compat.py:36: FutureWarning: pandas.Int64Index is deprecated and will be removed from pandas in a future version. Use pandas.Index with the appropriate dtype instead.\n",
      "  from pandas import MultiIndex, Int64Index\n"
     ]
    }
   ],
   "source": [
    "import numpy as np\n",
    "import pandas as pd\n",
    "\n",
    "from sklearn.utils.class_weight import compute_class_weight\n",
    "\n",
    "from sklearn.ensemble import RandomForestClassifier\n",
    "from xgboost import XGBClassifier\n",
    "from catboost import Pool, CatBoostClassifier\n",
    "\n",
    "from sklearn.metrics import precision_score"
   ]
  },
  {
   "cell_type": "code",
   "execution_count": 2,
   "metadata": {},
   "outputs": [],
   "source": [
    "full_train = pd.read_csv('datasets/cleaned_original+dollar+bitcoin+ratings_train_v3.csv', delimiter=',')\n",
    "full_test = pd.read_csv('datasets/cleaned_original+dollar+bitcoin+ratings_test_v3.csv', delimiter=',')"
   ]
  },
  {
   "cell_type": "code",
   "execution_count": 3,
   "metadata": {},
   "outputs": [],
   "source": [
    "# full_dataset\n",
    "x_train = full_train.drop('label', axis=1)\n",
    "y_train = full_train['label']\n",
    "\n",
    "x_val = full_test.drop('label', axis=1)\n",
    "y_val = full_test['label']"
   ]
  },
  {
   "cell_type": "code",
   "execution_count": 4,
   "metadata": {},
   "outputs": [
    {
     "data": {
      "text/plain": [
       "({0.0: 0.512373237867053, 1.0: 20.70489726991275}, 41.4097945398255)"
      ]
     },
     "execution_count": 4,
     "metadata": {},
     "output_type": "execute_result"
    }
   ],
   "source": [
    "classes = np.unique(y_train)\n",
    "weights = compute_class_weight(class_weight='balanced', classes=classes, y=y_train)\n",
    "class_weights = dict(zip(classes, weights))\n",
    "\n",
    "# scale_pos_weight = int(class_weights[1] / class_weights[0])\n",
    "scale_pos_weight = y_train.shape[0]/ y_train.sum()\n",
    "# scale_pos_weight= 50\n",
    "class_weights, scale_pos_weight"
   ]
  },
  {
   "cell_type": "code",
   "execution_count": 6,
   "metadata": {},
   "outputs": [],
   "source": [
    "catbcl = CatBoostClassifier(iterations = 400, depth = 12, learning_rate = 0.03, loss_function = \"Logloss\", class_weights=class_weights,\n",
    "                            task_type = \"GPU\", verbose = True)"
   ]
  },
  {
   "cell_type": "code",
   "execution_count": 20,
   "metadata": {},
   "outputs": [],
   "source": [
    "gbcl = XGBClassifier(booster = \"gbtree\", max_depth = 0, verbosity = 0, scale_pos_weight=scale_pos_weight)\n",
    "\n",
    "forest_19_5 = RandomForestClassifier(max_depth = 19, n_estimators = 500, criterion = \"gini\", n_jobs = 5,\n",
    "                                                                                    class_weight=class_weights)\n",
    "\n",
    "forest_19_5_v2 = RandomForestClassifier(max_depth = 19, n_estimators = 500, criterion = \"gini\", n_jobs = 5,\n",
    "                                        min_samples_leaf=5, class_weight=class_weights, min_samples_split=10,\n",
    "                                        random_state=404)"
   ]
  },
  {
   "cell_type": "code",
   "execution_count": 10,
   "metadata": {},
   "outputs": [
    {
     "data": {
      "text/plain": [
       "0.053683996475293164"
      ]
     },
     "execution_count": 10,
     "metadata": {},
     "output_type": "execute_result"
    }
   ],
   "source": [
    "y_pred = catbcl.predict(x_val)\n",
    "precision_score(y_val, y_pred)"
   ]
  },
  {
   "cell_type": "code",
   "execution_count": 8,
   "metadata": {},
   "outputs": [
    {
     "name": "stdout",
     "output_type": "stream",
     "text": [
      "CatBoostClassifier: \n",
      "0:\tlearn: 0.6759919\ttest: 0.6834569\tbest: 0.6834569 (0)\ttotal: 154ms\tremaining: 1m 1s\n",
      "1:\tlearn: 0.6597093\ttest: 0.6760796\tbest: 0.6760796 (1)\ttotal: 672ms\tremaining: 2m 13s\n",
      "2:\tlearn: 0.6445625\ttest: 0.6681220\tbest: 0.6681220 (2)\ttotal: 1.16s\tremaining: 2m 33s\n",
      "3:\tlearn: 0.6301212\ttest: 0.6625970\tbest: 0.6625970 (3)\ttotal: 1.46s\tremaining: 2m 24s\n",
      "4:\tlearn: 0.6168421\ttest: 0.6571149\tbest: 0.6571149 (4)\ttotal: 2.71s\tremaining: 3m 33s\n",
      "5:\tlearn: 0.6043192\ttest: 0.6512910\tbest: 0.6512910 (5)\ttotal: 3.61s\tremaining: 3m 56s\n",
      "6:\tlearn: 0.5925819\ttest: 0.6460568\tbest: 0.6460568 (6)\ttotal: 4.11s\tremaining: 3m 50s\n",
      "7:\tlearn: 0.5814946\ttest: 0.6408153\tbest: 0.6408153 (7)\ttotal: 4.42s\tremaining: 3m 36s\n",
      "8:\tlearn: 0.5714846\ttest: 0.6378525\tbest: 0.6378525 (8)\ttotal: 5.1s\tremaining: 3m 41s\n",
      "9:\tlearn: 0.5625240\ttest: 0.6354619\tbest: 0.6354619 (9)\ttotal: 5.49s\tremaining: 3m 34s\n",
      "10:\tlearn: 0.5534696\ttest: 0.6316242\tbest: 0.6316242 (10)\ttotal: 6.05s\tremaining: 3m 33s\n",
      "11:\tlearn: 0.5449409\ttest: 0.6282661\tbest: 0.6282661 (11)\ttotal: 6.81s\tremaining: 3m 40s\n",
      "12:\tlearn: 0.5368586\ttest: 0.6253607\tbest: 0.6253607 (12)\ttotal: 7.18s\tremaining: 3m 33s\n",
      "13:\tlearn: 0.5292957\ttest: 0.6222435\tbest: 0.6222435 (13)\ttotal: 7.73s\tremaining: 3m 33s\n",
      "14:\tlearn: 0.5223472\ttest: 0.6192693\tbest: 0.6192693 (14)\ttotal: 8.38s\tremaining: 3m 35s\n",
      "15:\tlearn: 0.5160344\ttest: 0.6176003\tbest: 0.6176003 (15)\ttotal: 8.93s\tremaining: 3m 34s\n",
      "16:\tlearn: 0.5088000\ttest: 0.6159870\tbest: 0.6159870 (16)\ttotal: 9.57s\tremaining: 3m 35s\n",
      "17:\tlearn: 0.5028885\ttest: 0.6155716\tbest: 0.6155716 (17)\ttotal: 9.91s\tremaining: 3m 30s\n",
      "18:\tlearn: 0.4959488\ttest: 0.6158618\tbest: 0.6155716 (17)\ttotal: 10.1s\tremaining: 3m 22s\n",
      "19:\tlearn: 0.4901456\ttest: 0.6145007\tbest: 0.6145007 (19)\ttotal: 10.4s\tremaining: 3m 17s\n",
      "20:\tlearn: 0.4855165\ttest: 0.6130200\tbest: 0.6130200 (20)\ttotal: 11s\tremaining: 3m 18s\n",
      "21:\tlearn: 0.4798522\ttest: 0.6123919\tbest: 0.6123919 (21)\ttotal: 11.3s\tremaining: 3m 13s\n",
      "22:\tlearn: 0.4748802\ttest: 0.6112935\tbest: 0.6112935 (22)\ttotal: 11.4s\tremaining: 3m 7s\n",
      "23:\tlearn: 0.4694780\ttest: 0.6118387\tbest: 0.6112935 (22)\ttotal: 11.8s\tremaining: 3m 5s\n",
      "24:\tlearn: 0.4652316\ttest: 0.6111038\tbest: 0.6111038 (24)\ttotal: 12.4s\tremaining: 3m 5s\n",
      "25:\tlearn: 0.4608102\ttest: 0.6103527\tbest: 0.6103527 (25)\ttotal: 13s\tremaining: 3m 7s\n",
      "26:\tlearn: 0.4559269\ttest: 0.6106568\tbest: 0.6103527 (25)\ttotal: 13.3s\tremaining: 3m 3s\n",
      "27:\tlearn: 0.4524200\ttest: 0.6103328\tbest: 0.6103328 (27)\ttotal: 13.9s\tremaining: 3m 5s\n",
      "28:\tlearn: 0.4484962\ttest: 0.6120993\tbest: 0.6103328 (27)\ttotal: 14.8s\tremaining: 3m 9s\n",
      "29:\tlearn: 0.4449904\ttest: 0.6125734\tbest: 0.6103328 (27)\ttotal: 15.2s\tremaining: 3m 7s\n",
      "30:\tlearn: 0.4414221\ttest: 0.6123983\tbest: 0.6103328 (27)\ttotal: 15.3s\tremaining: 3m 2s\n",
      "31:\tlearn: 0.4382344\ttest: 0.6117184\tbest: 0.6103328 (27)\ttotal: 15.7s\tremaining: 3m\n",
      "32:\tlearn: 0.4347732\ttest: 0.6123923\tbest: 0.6103328 (27)\ttotal: 16.3s\tremaining: 3m\n",
      "33:\tlearn: 0.4312454\ttest: 0.6147567\tbest: 0.6103328 (27)\ttotal: 16.6s\tremaining: 2m 59s\n",
      "34:\tlearn: 0.4288831\ttest: 0.6145066\tbest: 0.6103328 (27)\ttotal: 17.1s\tremaining: 2m 58s\n",
      "35:\tlearn: 0.4252625\ttest: 0.6153515\tbest: 0.6103328 (27)\ttotal: 17.5s\tremaining: 2m 56s\n",
      "36:\tlearn: 0.4219844\ttest: 0.6148835\tbest: 0.6103328 (27)\ttotal: 18s\tremaining: 2m 56s\n",
      "37:\tlearn: 0.4190790\ttest: 0.6169833\tbest: 0.6103328 (27)\ttotal: 18.5s\tremaining: 2m 56s\n",
      "38:\tlearn: 0.4164087\ttest: 0.6172002\tbest: 0.6103328 (27)\ttotal: 19.3s\tremaining: 2m 58s\n",
      "39:\tlearn: 0.4140431\ttest: 0.6176304\tbest: 0.6103328 (27)\ttotal: 19.6s\tremaining: 2m 56s\n",
      "40:\tlearn: 0.4108916\ttest: 0.6173224\tbest: 0.6103328 (27)\ttotal: 20.2s\tremaining: 2m 56s\n",
      "41:\tlearn: 0.4081822\ttest: 0.6174311\tbest: 0.6103328 (27)\ttotal: 20.4s\tremaining: 2m 53s\n",
      "42:\tlearn: 0.4054171\ttest: 0.6181327\tbest: 0.6103328 (27)\ttotal: 20.9s\tremaining: 2m 53s\n",
      "43:\tlearn: 0.4026930\ttest: 0.6203813\tbest: 0.6103328 (27)\ttotal: 21.4s\tremaining: 2m 52s\n",
      "44:\tlearn: 0.4001607\ttest: 0.6217945\tbest: 0.6103328 (27)\ttotal: 22.3s\tremaining: 2m 55s\n",
      "45:\tlearn: 0.3978102\ttest: 0.6233494\tbest: 0.6103328 (27)\ttotal: 23s\tremaining: 2m 56s\n",
      "46:\tlearn: 0.3957739\ttest: 0.6243511\tbest: 0.6103328 (27)\ttotal: 23.5s\tremaining: 2m 56s\n",
      "47:\tlearn: 0.3928533\ttest: 0.6246151\tbest: 0.6103328 (27)\ttotal: 24.3s\tremaining: 2m 57s\n",
      "48:\tlearn: 0.3904661\ttest: 0.6275295\tbest: 0.6103328 (27)\ttotal: 24.7s\tremaining: 2m 56s\n",
      "49:\tlearn: 0.3887537\ttest: 0.6275741\tbest: 0.6103328 (27)\ttotal: 25.3s\tremaining: 2m 57s\n",
      "50:\tlearn: 0.3861340\ttest: 0.6282101\tbest: 0.6103328 (27)\ttotal: 25.9s\tremaining: 2m 57s\n",
      "51:\tlearn: 0.3832559\ttest: 0.6282035\tbest: 0.6103328 (27)\ttotal: 26.5s\tremaining: 2m 57s\n",
      "52:\tlearn: 0.3811291\ttest: 0.6285487\tbest: 0.6103328 (27)\ttotal: 27.1s\tremaining: 2m 57s\n",
      "53:\tlearn: 0.3789854\ttest: 0.6306473\tbest: 0.6103328 (27)\ttotal: 27.5s\tremaining: 2m 55s\n",
      "54:\tlearn: 0.3771119\ttest: 0.6329407\tbest: 0.6103328 (27)\ttotal: 27.9s\tremaining: 2m 54s\n",
      "55:\tlearn: 0.3748562\ttest: 0.6345990\tbest: 0.6103328 (27)\ttotal: 28.4s\tremaining: 2m 54s\n",
      "56:\tlearn: 0.3729715\ttest: 0.6347697\tbest: 0.6103328 (27)\ttotal: 28.6s\tremaining: 2m 52s\n",
      "57:\tlearn: 0.3715524\ttest: 0.6357130\tbest: 0.6103328 (27)\ttotal: 29s\tremaining: 2m 50s\n",
      "58:\tlearn: 0.3697629\ttest: 0.6361729\tbest: 0.6103328 (27)\ttotal: 29.5s\tremaining: 2m 50s\n",
      "59:\tlearn: 0.3685462\ttest: 0.6365676\tbest: 0.6103328 (27)\ttotal: 30.1s\tremaining: 2m 50s\n",
      "60:\tlearn: 0.3666906\ttest: 0.6372893\tbest: 0.6103328 (27)\ttotal: 30.5s\tremaining: 2m 49s\n",
      "61:\tlearn: 0.3646684\ttest: 0.6382543\tbest: 0.6103328 (27)\ttotal: 31.2s\tremaining: 2m 49s\n",
      "62:\tlearn: 0.3627868\ttest: 0.6401356\tbest: 0.6103328 (27)\ttotal: 31.8s\tremaining: 2m 50s\n",
      "63:\tlearn: 0.3614874\ttest: 0.6403121\tbest: 0.6103328 (27)\ttotal: 32.4s\tremaining: 2m 50s\n",
      "64:\tlearn: 0.3593381\ttest: 0.6417652\tbest: 0.6103328 (27)\ttotal: 32.8s\tremaining: 2m 49s\n",
      "65:\tlearn: 0.3578797\ttest: 0.6423287\tbest: 0.6103328 (27)\ttotal: 33.3s\tremaining: 2m 48s\n",
      "66:\tlearn: 0.3563940\ttest: 0.6431721\tbest: 0.6103328 (27)\ttotal: 33.7s\tremaining: 2m 47s\n",
      "67:\tlearn: 0.3545869\ttest: 0.6436133\tbest: 0.6103328 (27)\ttotal: 34s\tremaining: 2m 46s\n",
      "68:\tlearn: 0.3529299\ttest: 0.6436937\tbest: 0.6103328 (27)\ttotal: 34.8s\tremaining: 2m 47s\n",
      "69:\tlearn: 0.3516891\ttest: 0.6441451\tbest: 0.6103328 (27)\ttotal: 35.7s\tremaining: 2m 48s\n",
      "70:\tlearn: 0.3503436\ttest: 0.6476354\tbest: 0.6103328 (27)\ttotal: 36.1s\tremaining: 2m 47s\n",
      "71:\tlearn: 0.3486294\ttest: 0.6482737\tbest: 0.6103328 (27)\ttotal: 36.6s\tremaining: 2m 46s\n",
      "72:\tlearn: 0.3471050\ttest: 0.6499035\tbest: 0.6103328 (27)\ttotal: 37.3s\tremaining: 2m 47s\n",
      "73:\tlearn: 0.3451148\ttest: 0.6515765\tbest: 0.6103328 (27)\ttotal: 38s\tremaining: 2m 47s\n",
      "74:\tlearn: 0.3439655\ttest: 0.6528863\tbest: 0.6103328 (27)\ttotal: 38.7s\tremaining: 2m 47s\n",
      "75:\tlearn: 0.3427697\ttest: 0.6550040\tbest: 0.6103328 (27)\ttotal: 39.1s\tremaining: 2m 46s\n",
      "76:\tlearn: 0.3415156\ttest: 0.6550895\tbest: 0.6103328 (27)\ttotal: 39.6s\tremaining: 2m 45s\n",
      "77:\tlearn: 0.3400639\ttest: 0.6561474\tbest: 0.6103328 (27)\ttotal: 39.9s\tremaining: 2m 44s\n",
      "78:\tlearn: 0.3385960\ttest: 0.6603911\tbest: 0.6103328 (27)\ttotal: 40.3s\tremaining: 2m 43s\n",
      "79:\tlearn: 0.3372805\ttest: 0.6617996\tbest: 0.6103328 (27)\ttotal: 41.3s\tremaining: 2m 45s\n",
      "80:\tlearn: 0.3363437\ttest: 0.6622274\tbest: 0.6103328 (27)\ttotal: 41.6s\tremaining: 2m 43s\n",
      "81:\tlearn: 0.3352021\ttest: 0.6632907\tbest: 0.6103328 (27)\ttotal: 42.1s\tremaining: 2m 43s\n",
      "82:\tlearn: 0.3336873\ttest: 0.6653723\tbest: 0.6103328 (27)\ttotal: 42.7s\tremaining: 2m 43s\n",
      "83:\tlearn: 0.3321217\ttest: 0.6670874\tbest: 0.6103328 (27)\ttotal: 43.2s\tremaining: 2m 42s\n",
      "84:\tlearn: 0.3304613\ttest: 0.6685079\tbest: 0.6103328 (27)\ttotal: 43.6s\tremaining: 2m 41s\n",
      "85:\tlearn: 0.3292417\ttest: 0.6711605\tbest: 0.6103328 (27)\ttotal: 44.3s\tremaining: 2m 41s\n",
      "86:\tlearn: 0.3280979\ttest: 0.6711690\tbest: 0.6103328 (27)\ttotal: 44.8s\tremaining: 2m 41s\n",
      "87:\tlearn: 0.3267917\ttest: 0.6717493\tbest: 0.6103328 (27)\ttotal: 45.2s\tremaining: 2m 40s\n",
      "88:\tlearn: 0.3253010\ttest: 0.6730666\tbest: 0.6103328 (27)\ttotal: 45.9s\tremaining: 2m 40s\n",
      "89:\tlearn: 0.3244140\ttest: 0.6745355\tbest: 0.6103328 (27)\ttotal: 46.3s\tremaining: 2m 39s\n",
      "90:\tlearn: 0.3230406\ttest: 0.6770478\tbest: 0.6103328 (27)\ttotal: 47s\tremaining: 2m 39s\n",
      "91:\tlearn: 0.3219215\ttest: 0.6783857\tbest: 0.6103328 (27)\ttotal: 47.7s\tremaining: 2m 39s\n",
      "92:\tlearn: 0.3208804\ttest: 0.6803586\tbest: 0.6103328 (27)\ttotal: 48.5s\tremaining: 2m 40s\n",
      "93:\tlearn: 0.3197854\ttest: 0.6807131\tbest: 0.6103328 (27)\ttotal: 49.2s\tremaining: 2m 40s\n",
      "94:\tlearn: 0.3184465\ttest: 0.6829029\tbest: 0.6103328 (27)\ttotal: 49.7s\tremaining: 2m 39s\n",
      "95:\tlearn: 0.3174552\ttest: 0.6844780\tbest: 0.6103328 (27)\ttotal: 50.2s\tremaining: 2m 38s\n",
      "96:\tlearn: 0.3163113\ttest: 0.6856116\tbest: 0.6103328 (27)\ttotal: 50.6s\tremaining: 2m 38s\n",
      "97:\tlearn: 0.3153245\ttest: 0.6913051\tbest: 0.6103328 (27)\ttotal: 51.1s\tremaining: 2m 37s\n",
      "98:\tlearn: 0.3141765\ttest: 0.6919672\tbest: 0.6103328 (27)\ttotal: 51.7s\tremaining: 2m 37s\n",
      "99:\tlearn: 0.3132352\ttest: 0.6942478\tbest: 0.6103328 (27)\ttotal: 52.2s\tremaining: 2m 36s\n",
      "100:\tlearn: 0.3120923\ttest: 0.6947254\tbest: 0.6103328 (27)\ttotal: 52.6s\tremaining: 2m 35s\n",
      "101:\tlearn: 0.3109377\ttest: 0.6959321\tbest: 0.6103328 (27)\ttotal: 53.2s\tremaining: 2m 35s\n",
      "102:\tlearn: 0.3099709\ttest: 0.6973661\tbest: 0.6103328 (27)\ttotal: 53.7s\tremaining: 2m 34s\n",
      "103:\tlearn: 0.3086491\ttest: 0.6974594\tbest: 0.6103328 (27)\ttotal: 54.6s\tremaining: 2m 35s\n",
      "104:\tlearn: 0.3069574\ttest: 0.6980234\tbest: 0.6103328 (27)\ttotal: 55.1s\tremaining: 2m 34s\n",
      "105:\tlearn: 0.3058690\ttest: 0.6983092\tbest: 0.6103328 (27)\ttotal: 55.7s\tremaining: 2m 34s\n",
      "106:\tlearn: 0.3049078\ttest: 0.6998582\tbest: 0.6103328 (27)\ttotal: 56.2s\tremaining: 2m 34s\n",
      "107:\tlearn: 0.3038040\ttest: 0.7020572\tbest: 0.6103328 (27)\ttotal: 56.7s\tremaining: 2m 33s\n",
      "108:\tlearn: 0.3028609\ttest: 0.7023720\tbest: 0.6103328 (27)\ttotal: 57.3s\tremaining: 2m 32s\n",
      "109:\tlearn: 0.3014788\ttest: 0.7035693\tbest: 0.6103328 (27)\ttotal: 57.7s\tremaining: 2m 32s\n",
      "110:\tlearn: 0.3004809\ttest: 0.7066530\tbest: 0.6103328 (27)\ttotal: 58.2s\tremaining: 2m 31s\n",
      "111:\tlearn: 0.2996765\ttest: 0.7077264\tbest: 0.6103328 (27)\ttotal: 59.1s\tremaining: 2m 32s\n",
      "112:\tlearn: 0.2982902\ttest: 0.7087948\tbest: 0.6103328 (27)\ttotal: 59.9s\tremaining: 2m 32s\n",
      "113:\tlearn: 0.2974015\ttest: 0.7118012\tbest: 0.6103328 (27)\ttotal: 1m\tremaining: 2m 30s\n",
      "114:\tlearn: 0.2963370\ttest: 0.7142309\tbest: 0.6103328 (27)\ttotal: 1m\tremaining: 2m 29s\n",
      "115:\tlearn: 0.2956775\ttest: 0.7151441\tbest: 0.6103328 (27)\ttotal: 1m\tremaining: 2m 28s\n",
      "116:\tlearn: 0.2942273\ttest: 0.7190194\tbest: 0.6103328 (27)\ttotal: 1m 1s\tremaining: 2m 28s\n",
      "117:\tlearn: 0.2934339\ttest: 0.7200103\tbest: 0.6103328 (27)\ttotal: 1m 1s\tremaining: 2m 28s\n",
      "118:\tlearn: 0.2925373\ttest: 0.7206300\tbest: 0.6103328 (27)\ttotal: 1m 2s\tremaining: 2m 28s\n",
      "119:\tlearn: 0.2917262\ttest: 0.7209140\tbest: 0.6103328 (27)\ttotal: 1m 3s\tremaining: 2m 27s\n",
      "120:\tlearn: 0.2910141\ttest: 0.7230323\tbest: 0.6103328 (27)\ttotal: 1m 3s\tremaining: 2m 26s\n",
      "121:\tlearn: 0.2900202\ttest: 0.7257714\tbest: 0.6103328 (27)\ttotal: 1m 4s\tremaining: 2m 25s\n",
      "122:\tlearn: 0.2890249\ttest: 0.7270420\tbest: 0.6103328 (27)\ttotal: 1m 4s\tremaining: 2m 25s\n",
      "123:\tlearn: 0.2878971\ttest: 0.7286534\tbest: 0.6103328 (27)\ttotal: 1m 4s\tremaining: 2m 24s\n",
      "124:\tlearn: 0.2870934\ttest: 0.7293045\tbest: 0.6103328 (27)\ttotal: 1m 5s\tremaining: 2m 24s\n",
      "125:\tlearn: 0.2860492\ttest: 0.7298908\tbest: 0.6103328 (27)\ttotal: 1m 6s\tremaining: 2m 23s\n",
      "126:\tlearn: 0.2854844\ttest: 0.7312419\tbest: 0.6103328 (27)\ttotal: 1m 6s\tremaining: 2m 23s\n",
      "127:\tlearn: 0.2843447\ttest: 0.7342282\tbest: 0.6103328 (27)\ttotal: 1m 7s\tremaining: 2m 23s\n",
      "128:\tlearn: 0.2834663\ttest: 0.7348881\tbest: 0.6103328 (27)\ttotal: 1m 7s\tremaining: 2m 22s\n",
      "129:\tlearn: 0.2827431\ttest: 0.7367571\tbest: 0.6103328 (27)\ttotal: 1m 8s\tremaining: 2m 22s\n",
      "130:\tlearn: 0.2818727\ttest: 0.7370631\tbest: 0.6103328 (27)\ttotal: 1m 8s\tremaining: 2m 21s\n",
      "131:\tlearn: 0.2810429\ttest: 0.7396563\tbest: 0.6103328 (27)\ttotal: 1m 9s\tremaining: 2m 21s\n",
      "132:\tlearn: 0.2804348\ttest: 0.7406397\tbest: 0.6103328 (27)\ttotal: 1m 10s\tremaining: 2m 20s\n",
      "133:\tlearn: 0.2792039\ttest: 0.7427684\tbest: 0.6103328 (27)\ttotal: 1m 10s\tremaining: 2m 20s\n",
      "134:\tlearn: 0.2787261\ttest: 0.7427143\tbest: 0.6103328 (27)\ttotal: 1m 11s\tremaining: 2m 19s\n",
      "135:\tlearn: 0.2781766\ttest: 0.7429681\tbest: 0.6103328 (27)\ttotal: 1m 11s\tremaining: 2m 19s\n",
      "136:\tlearn: 0.2766700\ttest: 0.7438856\tbest: 0.6103328 (27)\ttotal: 1m 12s\tremaining: 2m 18s\n",
      "137:\tlearn: 0.2756332\ttest: 0.7448840\tbest: 0.6103328 (27)\ttotal: 1m 12s\tremaining: 2m 17s\n",
      "138:\tlearn: 0.2747172\ttest: 0.7460077\tbest: 0.6103328 (27)\ttotal: 1m 12s\tremaining: 2m 16s\n",
      "139:\tlearn: 0.2736731\ttest: 0.7467499\tbest: 0.6103328 (27)\ttotal: 1m 13s\tremaining: 2m 16s\n",
      "140:\tlearn: 0.2727665\ttest: 0.7506314\tbest: 0.6103328 (27)\ttotal: 1m 14s\tremaining: 2m 16s\n",
      "141:\tlearn: 0.2716789\ttest: 0.7514727\tbest: 0.6103328 (27)\ttotal: 1m 15s\tremaining: 2m 16s\n",
      "142:\tlearn: 0.2711240\ttest: 0.7530283\tbest: 0.6103328 (27)\ttotal: 1m 15s\tremaining: 2m 15s\n",
      "143:\tlearn: 0.2703042\ttest: 0.7559068\tbest: 0.6103328 (27)\ttotal: 1m 16s\tremaining: 2m 15s\n",
      "144:\tlearn: 0.2694592\ttest: 0.7591024\tbest: 0.6103328 (27)\ttotal: 1m 16s\tremaining: 2m 14s\n",
      "145:\tlearn: 0.2684465\ttest: 0.7600350\tbest: 0.6103328 (27)\ttotal: 1m 17s\tremaining: 2m 14s\n",
      "146:\tlearn: 0.2679381\ttest: 0.7630706\tbest: 0.6103328 (27)\ttotal: 1m 17s\tremaining: 2m 13s\n",
      "147:\tlearn: 0.2668408\ttest: 0.7642193\tbest: 0.6103328 (27)\ttotal: 1m 18s\tremaining: 2m 13s\n",
      "148:\tlearn: 0.2654847\ttest: 0.7654684\tbest: 0.6103328 (27)\ttotal: 1m 18s\tremaining: 2m 12s\n",
      "149:\tlearn: 0.2648279\ttest: 0.7655322\tbest: 0.6103328 (27)\ttotal: 1m 19s\tremaining: 2m 12s\n",
      "150:\tlearn: 0.2639035\ttest: 0.7682907\tbest: 0.6103328 (27)\ttotal: 1m 20s\tremaining: 2m 12s\n",
      "151:\tlearn: 0.2634066\ttest: 0.7701259\tbest: 0.6103328 (27)\ttotal: 1m 21s\tremaining: 2m 12s\n",
      "152:\tlearn: 0.2627157\ttest: 0.7726759\tbest: 0.6103328 (27)\ttotal: 1m 21s\tremaining: 2m 12s\n",
      "153:\tlearn: 0.2619643\ttest: 0.7733018\tbest: 0.6103328 (27)\ttotal: 1m 22s\tremaining: 2m 12s\n",
      "154:\tlearn: 0.2613045\ttest: 0.7748661\tbest: 0.6103328 (27)\ttotal: 1m 23s\tremaining: 2m 12s\n",
      "155:\tlearn: 0.2601840\ttest: 0.7761736\tbest: 0.6103328 (27)\ttotal: 1m 24s\tremaining: 2m 11s\n",
      "156:\tlearn: 0.2594370\ttest: 0.7765943\tbest: 0.6103328 (27)\ttotal: 1m 24s\tremaining: 2m 11s\n",
      "157:\tlearn: 0.2584136\ttest: 0.7773584\tbest: 0.6103328 (27)\ttotal: 1m 25s\tremaining: 2m 10s\n",
      "158:\tlearn: 0.2578592\ttest: 0.7776699\tbest: 0.6103328 (27)\ttotal: 1m 26s\tremaining: 2m 10s\n",
      "159:\tlearn: 0.2570546\ttest: 0.7812046\tbest: 0.6103328 (27)\ttotal: 1m 26s\tremaining: 2m 10s\n",
      "160:\tlearn: 0.2556297\ttest: 0.7828433\tbest: 0.6103328 (27)\ttotal: 1m 27s\tremaining: 2m 9s\n",
      "161:\tlearn: 0.2550636\ttest: 0.7831958\tbest: 0.6103328 (27)\ttotal: 1m 27s\tremaining: 2m 8s\n",
      "162:\tlearn: 0.2544623\ttest: 0.7866217\tbest: 0.6103328 (27)\ttotal: 1m 28s\tremaining: 2m 8s\n",
      "163:\tlearn: 0.2535573\ttest: 0.7885267\tbest: 0.6103328 (27)\ttotal: 1m 28s\tremaining: 2m 7s\n",
      "164:\tlearn: 0.2526917\ttest: 0.7907766\tbest: 0.6103328 (27)\ttotal: 1m 29s\tremaining: 2m 6s\n",
      "165:\tlearn: 0.2513893\ttest: 0.7917609\tbest: 0.6103328 (27)\ttotal: 1m 29s\tremaining: 2m 6s\n",
      "166:\tlearn: 0.2509090\ttest: 0.7919577\tbest: 0.6103328 (27)\ttotal: 1m 30s\tremaining: 2m 5s\n",
      "167:\tlearn: 0.2499970\ttest: 0.7927365\tbest: 0.6103328 (27)\ttotal: 1m 30s\tremaining: 2m 5s\n",
      "168:\tlearn: 0.2493936\ttest: 0.7930271\tbest: 0.6103328 (27)\ttotal: 1m 31s\tremaining: 2m 4s\n",
      "169:\tlearn: 0.2486037\ttest: 0.7937221\tbest: 0.6103328 (27)\ttotal: 1m 32s\tremaining: 2m 4s\n",
      "170:\tlearn: 0.2481081\ttest: 0.7946051\tbest: 0.6103328 (27)\ttotal: 1m 32s\tremaining: 2m 4s\n",
      "171:\tlearn: 0.2472861\ttest: 0.7952960\tbest: 0.6103328 (27)\ttotal: 1m 33s\tremaining: 2m 3s\n",
      "172:\tlearn: 0.2464158\ttest: 0.7961417\tbest: 0.6103328 (27)\ttotal: 1m 33s\tremaining: 2m 3s\n",
      "173:\tlearn: 0.2456431\ttest: 0.7975542\tbest: 0.6103328 (27)\ttotal: 1m 34s\tremaining: 2m 2s\n",
      "174:\tlearn: 0.2447869\ttest: 0.7982321\tbest: 0.6103328 (27)\ttotal: 1m 34s\tremaining: 2m 1s\n",
      "175:\tlearn: 0.2442120\ttest: 0.7991943\tbest: 0.6103328 (27)\ttotal: 1m 35s\tremaining: 2m 1s\n",
      "176:\tlearn: 0.2436880\ttest: 0.8001299\tbest: 0.6103328 (27)\ttotal: 1m 35s\tremaining: 2m\n",
      "177:\tlearn: 0.2427510\ttest: 0.8012607\tbest: 0.6103328 (27)\ttotal: 1m 36s\tremaining: 1m 59s\n",
      "178:\tlearn: 0.2420428\ttest: 0.8022602\tbest: 0.6103328 (27)\ttotal: 1m 36s\tremaining: 1m 59s\n",
      "179:\tlearn: 0.2410407\ttest: 0.8031558\tbest: 0.6103328 (27)\ttotal: 1m 37s\tremaining: 1m 58s\n",
      "180:\tlearn: 0.2399879\ttest: 0.8041616\tbest: 0.6103328 (27)\ttotal: 1m 37s\tremaining: 1m 57s\n",
      "181:\tlearn: 0.2390284\ttest: 0.8049218\tbest: 0.6103328 (27)\ttotal: 1m 37s\tremaining: 1m 57s\n",
      "182:\tlearn: 0.2383975\ttest: 0.8072864\tbest: 0.6103328 (27)\ttotal: 1m 38s\tremaining: 1m 56s\n",
      "183:\tlearn: 0.2378644\ttest: 0.8079176\tbest: 0.6103328 (27)\ttotal: 1m 38s\tremaining: 1m 55s\n",
      "184:\tlearn: 0.2375331\ttest: 0.8096106\tbest: 0.6103328 (27)\ttotal: 1m 39s\tremaining: 1m 55s\n",
      "185:\tlearn: 0.2371662\ttest: 0.8102422\tbest: 0.6103328 (27)\ttotal: 1m 39s\tremaining: 1m 54s\n",
      "186:\tlearn: 0.2366480\ttest: 0.8121772\tbest: 0.6103328 (27)\ttotal: 1m 39s\tremaining: 1m 53s\n",
      "187:\tlearn: 0.2352112\ttest: 0.8144284\tbest: 0.6103328 (27)\ttotal: 1m 40s\tremaining: 1m 53s\n",
      "188:\tlearn: 0.2343834\ttest: 0.8158792\tbest: 0.6103328 (27)\ttotal: 1m 41s\tremaining: 1m 53s\n",
      "189:\tlearn: 0.2337341\ttest: 0.8164971\tbest: 0.6103328 (27)\ttotal: 1m 42s\tremaining: 1m 52s\n",
      "190:\tlearn: 0.2332905\ttest: 0.8182352\tbest: 0.6103328 (27)\ttotal: 1m 42s\tremaining: 1m 52s\n",
      "191:\tlearn: 0.2327166\ttest: 0.8198947\tbest: 0.6103328 (27)\ttotal: 1m 43s\tremaining: 1m 51s\n",
      "192:\tlearn: 0.2323778\ttest: 0.8207458\tbest: 0.6103328 (27)\ttotal: 1m 43s\tremaining: 1m 51s\n",
      "193:\tlearn: 0.2319869\ttest: 0.8226251\tbest: 0.6103328 (27)\ttotal: 1m 44s\tremaining: 1m 51s\n",
      "194:\tlearn: 0.2310611\ttest: 0.8236872\tbest: 0.6103328 (27)\ttotal: 1m 45s\tremaining: 1m 50s\n",
      "195:\tlearn: 0.2303373\ttest: 0.8263705\tbest: 0.6103328 (27)\ttotal: 1m 45s\tremaining: 1m 49s\n",
      "196:\tlearn: 0.2291273\ttest: 0.8280482\tbest: 0.6103328 (27)\ttotal: 1m 46s\tremaining: 1m 49s\n",
      "197:\tlearn: 0.2287274\ttest: 0.8295104\tbest: 0.6103328 (27)\ttotal: 1m 46s\tremaining: 1m 49s\n",
      "198:\tlearn: 0.2283222\ttest: 0.8310937\tbest: 0.6103328 (27)\ttotal: 1m 47s\tremaining: 1m 48s\n",
      "199:\tlearn: 0.2272379\ttest: 0.8321485\tbest: 0.6103328 (27)\ttotal: 1m 47s\tremaining: 1m 47s\n",
      "200:\tlearn: 0.2262245\ttest: 0.8329374\tbest: 0.6103328 (27)\ttotal: 1m 48s\tremaining: 1m 47s\n",
      "201:\tlearn: 0.2256309\ttest: 0.8334055\tbest: 0.6103328 (27)\ttotal: 1m 48s\tremaining: 1m 46s\n",
      "202:\tlearn: 0.2252299\ttest: 0.8345537\tbest: 0.6103328 (27)\ttotal: 1m 48s\tremaining: 1m 45s\n",
      "203:\tlearn: 0.2248530\ttest: 0.8354542\tbest: 0.6103328 (27)\ttotal: 1m 49s\tremaining: 1m 45s\n",
      "204:\tlearn: 0.2239673\ttest: 0.8365749\tbest: 0.6103328 (27)\ttotal: 1m 49s\tremaining: 1m 44s\n",
      "205:\tlearn: 0.2232944\ttest: 0.8401264\tbest: 0.6103328 (27)\ttotal: 1m 50s\tremaining: 1m 44s\n",
      "206:\tlearn: 0.2229052\ttest: 0.8412694\tbest: 0.6103328 (27)\ttotal: 1m 51s\tremaining: 1m 43s\n",
      "207:\tlearn: 0.2220175\ttest: 0.8426076\tbest: 0.6103328 (27)\ttotal: 1m 51s\tremaining: 1m 43s\n",
      "208:\tlearn: 0.2210326\ttest: 0.8432947\tbest: 0.6103328 (27)\ttotal: 1m 52s\tremaining: 1m 42s\n",
      "209:\tlearn: 0.2204996\ttest: 0.8449640\tbest: 0.6103328 (27)\ttotal: 1m 52s\tremaining: 1m 41s\n",
      "210:\tlearn: 0.2196845\ttest: 0.8466743\tbest: 0.6103328 (27)\ttotal: 1m 53s\tremaining: 1m 41s\n",
      "211:\tlearn: 0.2192815\ttest: 0.8468005\tbest: 0.6103328 (27)\ttotal: 1m 53s\tremaining: 1m 40s\n",
      "212:\tlearn: 0.2185793\ttest: 0.8480958\tbest: 0.6103328 (27)\ttotal: 1m 54s\tremaining: 1m 40s\n",
      "213:\tlearn: 0.2173815\ttest: 0.8504742\tbest: 0.6103328 (27)\ttotal: 1m 54s\tremaining: 1m 39s\n",
      "214:\tlearn: 0.2165452\ttest: 0.8514556\tbest: 0.6103328 (27)\ttotal: 1m 55s\tremaining: 1m 39s\n",
      "215:\tlearn: 0.2159639\ttest: 0.8541339\tbest: 0.6103328 (27)\ttotal: 1m 55s\tremaining: 1m 38s\n",
      "216:\tlearn: 0.2154175\ttest: 0.8546337\tbest: 0.6103328 (27)\ttotal: 1m 55s\tremaining: 1m 37s\n",
      "217:\tlearn: 0.2144141\ttest: 0.8559744\tbest: 0.6103328 (27)\ttotal: 1m 56s\tremaining: 1m 37s\n",
      "218:\tlearn: 0.2139735\ttest: 0.8606483\tbest: 0.6103328 (27)\ttotal: 1m 57s\tremaining: 1m 36s\n",
      "219:\tlearn: 0.2134473\ttest: 0.8618580\tbest: 0.6103328 (27)\ttotal: 1m 57s\tremaining: 1m 36s\n",
      "220:\tlearn: 0.2124331\ttest: 0.8630632\tbest: 0.6103328 (27)\ttotal: 1m 58s\tremaining: 1m 35s\n",
      "221:\tlearn: 0.2114671\ttest: 0.8642575\tbest: 0.6103328 (27)\ttotal: 1m 58s\tremaining: 1m 35s\n",
      "222:\tlearn: 0.2110212\ttest: 0.8654787\tbest: 0.6103328 (27)\ttotal: 1m 59s\tremaining: 1m 34s\n",
      "223:\tlearn: 0.2103239\ttest: 0.8668863\tbest: 0.6103328 (27)\ttotal: 2m\tremaining: 1m 34s\n",
      "224:\tlearn: 0.2096802\ttest: 0.8673157\tbest: 0.6103328 (27)\ttotal: 2m\tremaining: 1m 34s\n",
      "225:\tlearn: 0.2092122\ttest: 0.8690224\tbest: 0.6103328 (27)\ttotal: 2m 1s\tremaining: 1m 33s\n",
      "226:\tlearn: 0.2088718\ttest: 0.8697685\tbest: 0.6103328 (27)\ttotal: 2m 1s\tremaining: 1m 32s\n",
      "227:\tlearn: 0.2083349\ttest: 0.8717046\tbest: 0.6103328 (27)\ttotal: 2m 2s\tremaining: 1m 32s\n",
      "228:\tlearn: 0.2077775\ttest: 0.8735218\tbest: 0.6103328 (27)\ttotal: 2m 2s\tremaining: 1m 31s\n",
      "229:\tlearn: 0.2073759\ttest: 0.8742459\tbest: 0.6103328 (27)\ttotal: 2m 3s\tremaining: 1m 31s\n",
      "230:\tlearn: 0.2068997\ttest: 0.8753885\tbest: 0.6103328 (27)\ttotal: 2m 4s\tremaining: 1m 30s\n",
      "231:\tlearn: 0.2062521\ttest: 0.8763971\tbest: 0.6103328 (27)\ttotal: 2m 5s\tremaining: 1m 30s\n",
      "232:\tlearn: 0.2056483\ttest: 0.8768610\tbest: 0.6103328 (27)\ttotal: 2m 5s\tremaining: 1m 29s\n",
      "233:\tlearn: 0.2049657\ttest: 0.8781407\tbest: 0.6103328 (27)\ttotal: 2m 6s\tremaining: 1m 29s\n",
      "234:\tlearn: 0.2042758\ttest: 0.8797142\tbest: 0.6103328 (27)\ttotal: 2m 6s\tremaining: 1m 29s\n",
      "235:\tlearn: 0.2038426\ttest: 0.8798767\tbest: 0.6103328 (27)\ttotal: 2m 7s\tremaining: 1m 28s\n",
      "236:\tlearn: 0.2029437\ttest: 0.8817309\tbest: 0.6103328 (27)\ttotal: 2m 7s\tremaining: 1m 27s\n",
      "237:\tlearn: 0.2023028\ttest: 0.8835708\tbest: 0.6103328 (27)\ttotal: 2m 8s\tremaining: 1m 27s\n",
      "238:\tlearn: 0.2018637\ttest: 0.8850290\tbest: 0.6103328 (27)\ttotal: 2m 8s\tremaining: 1m 26s\n",
      "239:\tlearn: 0.2013815\ttest: 0.8860524\tbest: 0.6103328 (27)\ttotal: 2m 9s\tremaining: 1m 26s\n",
      "240:\tlearn: 0.2009552\ttest: 0.8871651\tbest: 0.6103328 (27)\ttotal: 2m 9s\tremaining: 1m 25s\n",
      "241:\tlearn: 0.2005396\ttest: 0.8893665\tbest: 0.6103328 (27)\ttotal: 2m 10s\tremaining: 1m 25s\n",
      "242:\tlearn: 0.1999579\ttest: 0.8914050\tbest: 0.6103328 (27)\ttotal: 2m 10s\tremaining: 1m 24s\n",
      "243:\tlearn: 0.1994616\ttest: 0.8925251\tbest: 0.6103328 (27)\ttotal: 2m 11s\tremaining: 1m 23s\n",
      "244:\tlearn: 0.1989615\ttest: 0.8935946\tbest: 0.6103328 (27)\ttotal: 2m 11s\tremaining: 1m 23s\n",
      "245:\tlearn: 0.1982537\ttest: 0.8952301\tbest: 0.6103328 (27)\ttotal: 2m 12s\tremaining: 1m 23s\n",
      "246:\tlearn: 0.1975877\ttest: 0.8967789\tbest: 0.6103328 (27)\ttotal: 2m 12s\tremaining: 1m 22s\n",
      "247:\tlearn: 0.1970693\ttest: 0.8980867\tbest: 0.6103328 (27)\ttotal: 2m 13s\tremaining: 1m 21s\n",
      "248:\tlearn: 0.1964870\ttest: 0.8996528\tbest: 0.6103328 (27)\ttotal: 2m 13s\tremaining: 1m 21s\n",
      "249:\tlearn: 0.1960244\ttest: 0.9015056\tbest: 0.6103328 (27)\ttotal: 2m 14s\tremaining: 1m 20s\n",
      "250:\tlearn: 0.1953154\ttest: 0.9037422\tbest: 0.6103328 (27)\ttotal: 2m 14s\tremaining: 1m 19s\n",
      "251:\tlearn: 0.1947812\ttest: 0.9054959\tbest: 0.6103328 (27)\ttotal: 2m 15s\tremaining: 1m 19s\n",
      "252:\tlearn: 0.1942996\ttest: 0.9084788\tbest: 0.6103328 (27)\ttotal: 2m 15s\tremaining: 1m 18s\n",
      "253:\tlearn: 0.1937797\ttest: 0.9096821\tbest: 0.6103328 (27)\ttotal: 2m 15s\tremaining: 1m 18s\n",
      "254:\tlearn: 0.1933452\ttest: 0.9109088\tbest: 0.6103328 (27)\ttotal: 2m 16s\tremaining: 1m 17s\n",
      "255:\tlearn: 0.1928807\ttest: 0.9122457\tbest: 0.6103328 (27)\ttotal: 2m 16s\tremaining: 1m 16s\n",
      "256:\tlearn: 0.1922685\ttest: 0.9133926\tbest: 0.6103328 (27)\ttotal: 2m 17s\tremaining: 1m 16s\n",
      "257:\tlearn: 0.1919085\ttest: 0.9180968\tbest: 0.6103328 (27)\ttotal: 2m 17s\tremaining: 1m 15s\n",
      "258:\tlearn: 0.1913941\ttest: 0.9194934\tbest: 0.6103328 (27)\ttotal: 2m 18s\tremaining: 1m 15s\n",
      "259:\tlearn: 0.1909143\ttest: 0.9206950\tbest: 0.6103328 (27)\ttotal: 2m 18s\tremaining: 1m 14s\n",
      "260:\tlearn: 0.1902587\ttest: 0.9220901\tbest: 0.6103328 (27)\ttotal: 2m 19s\tremaining: 1m 14s\n",
      "261:\tlearn: 0.1898325\ttest: 0.9233662\tbest: 0.6103328 (27)\ttotal: 2m 19s\tremaining: 1m 13s\n",
      "262:\tlearn: 0.1892336\ttest: 0.9266895\tbest: 0.6103328 (27)\ttotal: 2m 20s\tremaining: 1m 13s\n",
      "263:\tlearn: 0.1887569\ttest: 0.9277987\tbest: 0.6103328 (27)\ttotal: 2m 20s\tremaining: 1m 12s\n",
      "264:\tlearn: 0.1882065\ttest: 0.9295983\tbest: 0.6103328 (27)\ttotal: 2m 21s\tremaining: 1m 12s\n",
      "265:\tlearn: 0.1874346\ttest: 0.9318556\tbest: 0.6103328 (27)\ttotal: 2m 22s\tremaining: 1m 11s\n",
      "266:\tlearn: 0.1869985\ttest: 0.9324155\tbest: 0.6103328 (27)\ttotal: 2m 22s\tremaining: 1m 11s\n",
      "267:\tlearn: 0.1864375\ttest: 0.9338271\tbest: 0.6103328 (27)\ttotal: 2m 23s\tremaining: 1m 10s\n",
      "268:\tlearn: 0.1858512\ttest: 0.9346693\tbest: 0.6103328 (27)\ttotal: 2m 23s\tremaining: 1m 10s\n",
      "269:\tlearn: 0.1853756\ttest: 0.9353514\tbest: 0.6103328 (27)\ttotal: 2m 24s\tremaining: 1m 9s\n",
      "270:\tlearn: 0.1846354\ttest: 0.9364786\tbest: 0.6103328 (27)\ttotal: 2m 25s\tremaining: 1m 9s\n",
      "271:\tlearn: 0.1841585\ttest: 0.9383392\tbest: 0.6103328 (27)\ttotal: 2m 25s\tremaining: 1m 8s\n",
      "272:\tlearn: 0.1835612\ttest: 0.9397466\tbest: 0.6103328 (27)\ttotal: 2m 25s\tremaining: 1m 7s\n",
      "273:\tlearn: 0.1830216\ttest: 0.9400791\tbest: 0.6103328 (27)\ttotal: 2m 26s\tremaining: 1m 7s\n",
      "274:\tlearn: 0.1824145\ttest: 0.9406010\tbest: 0.6103328 (27)\ttotal: 2m 26s\tremaining: 1m 6s\n",
      "275:\tlearn: 0.1818883\ttest: 0.9420079\tbest: 0.6103328 (27)\ttotal: 2m 27s\tremaining: 1m 6s\n",
      "276:\tlearn: 0.1814682\ttest: 0.9436093\tbest: 0.6103328 (27)\ttotal: 2m 28s\tremaining: 1m 5s\n",
      "277:\tlearn: 0.1808141\ttest: 0.9442752\tbest: 0.6103328 (27)\ttotal: 2m 28s\tremaining: 1m 5s\n",
      "278:\tlearn: 0.1803846\ttest: 0.9454490\tbest: 0.6103328 (27)\ttotal: 2m 28s\tremaining: 1m 4s\n",
      "279:\tlearn: 0.1798949\ttest: 0.9466637\tbest: 0.6103328 (27)\ttotal: 2m 29s\tremaining: 1m 4s\n",
      "280:\tlearn: 0.1793692\ttest: 0.9476372\tbest: 0.6103328 (27)\ttotal: 2m 30s\tremaining: 1m 3s\n",
      "281:\tlearn: 0.1791082\ttest: 0.9491746\tbest: 0.6103328 (27)\ttotal: 2m 30s\tremaining: 1m 2s\n",
      "282:\tlearn: 0.1786066\ttest: 0.9518307\tbest: 0.6103328 (27)\ttotal: 2m 30s\tremaining: 1m 2s\n",
      "283:\tlearn: 0.1783531\ttest: 0.9525331\tbest: 0.6103328 (27)\ttotal: 2m 31s\tremaining: 1m 1s\n",
      "284:\tlearn: 0.1780059\ttest: 0.9545726\tbest: 0.6103328 (27)\ttotal: 2m 32s\tremaining: 1m 1s\n",
      "285:\tlearn: 0.1775426\ttest: 0.9551346\tbest: 0.6103328 (27)\ttotal: 2m 32s\tremaining: 1m\n",
      "286:\tlearn: 0.1770834\ttest: 0.9561822\tbest: 0.6103328 (27)\ttotal: 2m 33s\tremaining: 1m\n",
      "287:\tlearn: 0.1767394\ttest: 0.9568655\tbest: 0.6103328 (27)\ttotal: 2m 33s\tremaining: 59.8s\n",
      "288:\tlearn: 0.1764066\ttest: 0.9576847\tbest: 0.6103328 (27)\ttotal: 2m 34s\tremaining: 59.3s\n",
      "289:\tlearn: 0.1760476\ttest: 0.9593174\tbest: 0.6103328 (27)\ttotal: 2m 34s\tremaining: 58.7s\n",
      "290:\tlearn: 0.1756365\ttest: 0.9601538\tbest: 0.6103328 (27)\ttotal: 2m 35s\tremaining: 58.1s\n",
      "291:\tlearn: 0.1752269\ttest: 0.9616991\tbest: 0.6103328 (27)\ttotal: 2m 35s\tremaining: 57.5s\n",
      "292:\tlearn: 0.1748326\ttest: 0.9623043\tbest: 0.6103328 (27)\ttotal: 2m 35s\tremaining: 56.9s\n",
      "293:\tlearn: 0.1744541\ttest: 0.9645616\tbest: 0.6103328 (27)\ttotal: 2m 36s\tremaining: 56.3s\n",
      "294:\tlearn: 0.1739203\ttest: 0.9673246\tbest: 0.6103328 (27)\ttotal: 2m 36s\tremaining: 55.8s\n",
      "295:\tlearn: 0.1731827\ttest: 0.9691129\tbest: 0.6103328 (27)\ttotal: 2m 37s\tremaining: 55.3s\n",
      "296:\tlearn: 0.1728065\ttest: 0.9697474\tbest: 0.6103328 (27)\ttotal: 2m 37s\tremaining: 54.8s\n",
      "297:\tlearn: 0.1724015\ttest: 0.9704464\tbest: 0.6103328 (27)\ttotal: 2m 38s\tremaining: 54.2s\n",
      "298:\tlearn: 0.1718473\ttest: 0.9722965\tbest: 0.6103328 (27)\ttotal: 2m 38s\tremaining: 53.7s\n",
      "299:\tlearn: 0.1712414\ttest: 0.9736419\tbest: 0.6103328 (27)\ttotal: 2m 39s\tremaining: 53.2s\n",
      "300:\tlearn: 0.1709190\ttest: 0.9754968\tbest: 0.6103328 (27)\ttotal: 2m 39s\tremaining: 52.6s\n",
      "301:\tlearn: 0.1706989\ttest: 0.9764798\tbest: 0.6103328 (27)\ttotal: 2m 40s\tremaining: 52.1s\n",
      "302:\tlearn: 0.1699495\ttest: 0.9777036\tbest: 0.6103328 (27)\ttotal: 2m 40s\tremaining: 51.4s\n",
      "303:\tlearn: 0.1695721\ttest: 0.9792019\tbest: 0.6103328 (27)\ttotal: 2m 41s\tremaining: 50.9s\n",
      "304:\tlearn: 0.1688543\ttest: 0.9811253\tbest: 0.6103328 (27)\ttotal: 2m 41s\tremaining: 50.3s\n",
      "305:\tlearn: 0.1685385\ttest: 0.9830571\tbest: 0.6103328 (27)\ttotal: 2m 41s\tremaining: 49.7s\n",
      "306:\tlearn: 0.1680437\ttest: 0.9849974\tbest: 0.6103328 (27)\ttotal: 2m 42s\tremaining: 49.2s\n",
      "307:\tlearn: 0.1677615\ttest: 0.9864516\tbest: 0.6103328 (27)\ttotal: 2m 42s\tremaining: 48.7s\n",
      "308:\tlearn: 0.1672409\ttest: 0.9893767\tbest: 0.6103328 (27)\ttotal: 2m 43s\tremaining: 48.2s\n",
      "309:\tlearn: 0.1667186\ttest: 0.9913935\tbest: 0.6103328 (27)\ttotal: 2m 44s\tremaining: 47.6s\n",
      "310:\tlearn: 0.1661012\ttest: 0.9928306\tbest: 0.6103328 (27)\ttotal: 2m 44s\tremaining: 47s\n",
      "311:\tlearn: 0.1657468\ttest: 0.9953090\tbest: 0.6103328 (27)\ttotal: 2m 44s\tremaining: 46.5s\n",
      "312:\tlearn: 0.1654315\ttest: 0.9971675\tbest: 0.6103328 (27)\ttotal: 2m 45s\tremaining: 45.9s\n",
      "313:\tlearn: 0.1650173\ttest: 0.9983605\tbest: 0.6103328 (27)\ttotal: 2m 45s\tremaining: 45.3s\n",
      "314:\tlearn: 0.1645348\ttest: 0.9988451\tbest: 0.6103328 (27)\ttotal: 2m 45s\tremaining: 44.7s\n",
      "315:\tlearn: 0.1641148\ttest: 1.0018542\tbest: 0.6103328 (27)\ttotal: 2m 46s\tremaining: 44.2s\n",
      "316:\tlearn: 0.1633707\ttest: 1.0038758\tbest: 0.6103328 (27)\ttotal: 2m 46s\tremaining: 43.7s\n",
      "317:\tlearn: 0.1630239\ttest: 1.0047509\tbest: 0.6103328 (27)\ttotal: 2m 47s\tremaining: 43.2s\n",
      "318:\tlearn: 0.1624708\ttest: 1.0055397\tbest: 0.6103328 (27)\ttotal: 2m 48s\tremaining: 42.7s\n",
      "319:\tlearn: 0.1622158\ttest: 1.0074629\tbest: 0.6103328 (27)\ttotal: 2m 48s\tremaining: 42.2s\n",
      "320:\tlearn: 0.1618360\ttest: 1.0083609\tbest: 0.6103328 (27)\ttotal: 2m 49s\tremaining: 41.6s\n",
      "321:\tlearn: 0.1614391\ttest: 1.0088498\tbest: 0.6103328 (27)\ttotal: 2m 49s\tremaining: 41.1s\n",
      "322:\tlearn: 0.1611104\ttest: 1.0111262\tbest: 0.6103328 (27)\ttotal: 2m 50s\tremaining: 40.5s\n",
      "323:\tlearn: 0.1608506\ttest: 1.0116179\tbest: 0.6103328 (27)\ttotal: 2m 50s\tremaining: 40s\n",
      "324:\tlearn: 0.1602531\ttest: 1.0134990\tbest: 0.6103328 (27)\ttotal: 2m 50s\tremaining: 39.5s\n",
      "325:\tlearn: 0.1599678\ttest: 1.0138562\tbest: 0.6103328 (27)\ttotal: 2m 51s\tremaining: 38.9s\n",
      "326:\tlearn: 0.1592848\ttest: 1.0149472\tbest: 0.6103328 (27)\ttotal: 2m 51s\tremaining: 38.4s\n",
      "327:\tlearn: 0.1587135\ttest: 1.0171874\tbest: 0.6103328 (27)\ttotal: 2m 52s\tremaining: 37.9s\n",
      "328:\tlearn: 0.1582846\ttest: 1.0182370\tbest: 0.6103328 (27)\ttotal: 2m 52s\tremaining: 37.3s\n",
      "329:\tlearn: 0.1577982\ttest: 1.0189634\tbest: 0.6103328 (27)\ttotal: 2m 53s\tremaining: 36.7s\n",
      "330:\tlearn: 0.1572240\ttest: 1.0203640\tbest: 0.6103328 (27)\ttotal: 2m 53s\tremaining: 36.2s\n",
      "331:\tlearn: 0.1567709\ttest: 1.0218577\tbest: 0.6103328 (27)\ttotal: 2m 53s\tremaining: 35.6s\n",
      "332:\tlearn: 0.1563751\ttest: 1.0228540\tbest: 0.6103328 (27)\ttotal: 2m 54s\tremaining: 35.1s\n",
      "333:\tlearn: 0.1559337\ttest: 1.0244718\tbest: 0.6103328 (27)\ttotal: 2m 54s\tremaining: 34.5s\n",
      "334:\tlearn: 0.1556817\ttest: 1.0282987\tbest: 0.6103328 (27)\ttotal: 2m 54s\tremaining: 34s\n",
      "335:\tlearn: 0.1552899\ttest: 1.0297200\tbest: 0.6103328 (27)\ttotal: 2m 55s\tremaining: 33.4s\n",
      "336:\tlearn: 0.1548660\ttest: 1.0320718\tbest: 0.6103328 (27)\ttotal: 2m 55s\tremaining: 32.8s\n",
      "337:\tlearn: 0.1544610\ttest: 1.0340818\tbest: 0.6103328 (27)\ttotal: 2m 56s\tremaining: 32.3s\n",
      "338:\tlearn: 0.1542573\ttest: 1.0360217\tbest: 0.6103328 (27)\ttotal: 2m 56s\tremaining: 31.8s\n",
      "339:\tlearn: 0.1540410\ttest: 1.0365801\tbest: 0.6103328 (27)\ttotal: 2m 57s\tremaining: 31.3s\n",
      "340:\tlearn: 0.1538049\ttest: 1.0370126\tbest: 0.6103328 (27)\ttotal: 2m 57s\tremaining: 30.7s\n",
      "341:\tlearn: 0.1534575\ttest: 1.0377152\tbest: 0.6103328 (27)\ttotal: 2m 58s\tremaining: 30.2s\n",
      "342:\tlearn: 0.1531767\ttest: 1.0392226\tbest: 0.6103328 (27)\ttotal: 2m 58s\tremaining: 29.7s\n",
      "343:\tlearn: 0.1527360\ttest: 1.0407623\tbest: 0.6103328 (27)\ttotal: 2m 59s\tremaining: 29.2s\n",
      "344:\tlearn: 0.1523760\ttest: 1.0432094\tbest: 0.6103328 (27)\ttotal: 3m 6s\tremaining: 29.8s\n",
      "345:\tlearn: 0.1518890\ttest: 1.0458602\tbest: 0.6103328 (27)\ttotal: 3m 8s\tremaining: 29.5s\n",
      "346:\tlearn: 0.1515891\ttest: 1.0494054\tbest: 0.6103328 (27)\ttotal: 3m 10s\tremaining: 29s\n",
      "347:\tlearn: 0.1509718\ttest: 1.0513120\tbest: 0.6103328 (27)\ttotal: 3m 10s\tremaining: 28.5s\n",
      "348:\tlearn: 0.1504369\ttest: 1.0528827\tbest: 0.6103328 (27)\ttotal: 3m 12s\tremaining: 28.1s\n",
      "349:\tlearn: 0.1499607\ttest: 1.0540700\tbest: 0.6103328 (27)\ttotal: 3m 13s\tremaining: 27.6s\n",
      "350:\tlearn: 0.1495923\ttest: 1.0548753\tbest: 0.6103328 (27)\ttotal: 3m 13s\tremaining: 27.1s\n",
      "351:\tlearn: 0.1492048\ttest: 1.0558242\tbest: 0.6103328 (27)\ttotal: 3m 14s\tremaining: 26.5s\n",
      "352:\tlearn: 0.1486278\ttest: 1.0569439\tbest: 0.6103328 (27)\ttotal: 3m 14s\tremaining: 26s\n",
      "353:\tlearn: 0.1482220\ttest: 1.0584327\tbest: 0.6103328 (27)\ttotal: 3m 16s\tremaining: 25.6s\n",
      "354:\tlearn: 0.1480427\ttest: 1.0598411\tbest: 0.6103328 (27)\ttotal: 3m 17s\tremaining: 25.1s\n",
      "355:\tlearn: 0.1475310\ttest: 1.0616930\tbest: 0.6103328 (27)\ttotal: 3m 18s\tremaining: 24.5s\n",
      "356:\tlearn: 0.1471935\ttest: 1.0626365\tbest: 0.6103328 (27)\ttotal: 3m 19s\tremaining: 24s\n",
      "357:\tlearn: 0.1467241\ttest: 1.0654943\tbest: 0.6103328 (27)\ttotal: 3m 20s\tremaining: 23.5s\n",
      "358:\tlearn: 0.1462867\ttest: 1.0664555\tbest: 0.6103328 (27)\ttotal: 3m 20s\tremaining: 22.9s\n",
      "359:\tlearn: 0.1459998\ttest: 1.0681197\tbest: 0.6103328 (27)\ttotal: 3m 21s\tremaining: 22.4s\n",
      "360:\tlearn: 0.1455612\ttest: 1.0694114\tbest: 0.6103328 (27)\ttotal: 3m 22s\tremaining: 21.9s\n",
      "361:\tlearn: 0.1451935\ttest: 1.0719104\tbest: 0.6103328 (27)\ttotal: 3m 23s\tremaining: 21.4s\n",
      "362:\tlearn: 0.1448725\ttest: 1.0725020\tbest: 0.6103328 (27)\ttotal: 3m 24s\tremaining: 20.8s\n",
      "363:\tlearn: 0.1445639\ttest: 1.0737222\tbest: 0.6103328 (27)\ttotal: 3m 25s\tremaining: 20.3s\n",
      "364:\tlearn: 0.1442063\ttest: 1.0747691\tbest: 0.6103328 (27)\ttotal: 3m 26s\tremaining: 19.8s\n",
      "365:\tlearn: 0.1439281\ttest: 1.0778144\tbest: 0.6103328 (27)\ttotal: 3m 26s\tremaining: 19.2s\n",
      "366:\tlearn: 0.1436825\ttest: 1.0788857\tbest: 0.6103328 (27)\ttotal: 3m 27s\tremaining: 18.7s\n",
      "367:\tlearn: 0.1432675\ttest: 1.0805441\tbest: 0.6103328 (27)\ttotal: 3m 28s\tremaining: 18.1s\n",
      "368:\tlearn: 0.1429540\ttest: 1.0830580\tbest: 0.6103328 (27)\ttotal: 3m 28s\tremaining: 17.6s\n",
      "369:\tlearn: 0.1426633\ttest: 1.0837027\tbest: 0.6103328 (27)\ttotal: 3m 29s\tremaining: 17s\n",
      "370:\tlearn: 0.1423126\ttest: 1.0842729\tbest: 0.6103328 (27)\ttotal: 3m 30s\tremaining: 16.4s\n",
      "371:\tlearn: 0.1419976\ttest: 1.0849613\tbest: 0.6103328 (27)\ttotal: 3m 30s\tremaining: 15.9s\n",
      "372:\tlearn: 0.1416287\ttest: 1.0868250\tbest: 0.6103328 (27)\ttotal: 3m 31s\tremaining: 15.3s\n",
      "373:\tlearn: 0.1412651\ttest: 1.0878920\tbest: 0.6103328 (27)\ttotal: 3m 31s\tremaining: 14.7s\n",
      "374:\tlearn: 0.1408279\ttest: 1.0895333\tbest: 0.6103328 (27)\ttotal: 3m 32s\tremaining: 14.2s\n",
      "375:\tlearn: 0.1406008\ttest: 1.0906737\tbest: 0.6103328 (27)\ttotal: 3m 32s\tremaining: 13.6s\n",
      "376:\tlearn: 0.1404445\ttest: 1.0911775\tbest: 0.6103328 (27)\ttotal: 3m 33s\tremaining: 13s\n",
      "377:\tlearn: 0.1402164\ttest: 1.0915814\tbest: 0.6103328 (27)\ttotal: 3m 33s\tremaining: 12.4s\n",
      "378:\tlearn: 0.1398587\ttest: 1.0937344\tbest: 0.6103328 (27)\ttotal: 3m 34s\tremaining: 11.9s\n",
      "379:\tlearn: 0.1393818\ttest: 1.0954641\tbest: 0.6103328 (27)\ttotal: 3m 34s\tremaining: 11.3s\n",
      "380:\tlearn: 0.1388159\ttest: 1.0970789\tbest: 0.6103328 (27)\ttotal: 3m 35s\tremaining: 10.7s\n",
      "381:\tlearn: 0.1385453\ttest: 1.0979946\tbest: 0.6103328 (27)\ttotal: 3m 36s\tremaining: 10.2s\n",
      "382:\tlearn: 0.1382850\ttest: 1.0996939\tbest: 0.6103328 (27)\ttotal: 3m 37s\tremaining: 9.64s\n",
      "383:\tlearn: 0.1379347\ttest: 1.1004745\tbest: 0.6103328 (27)\ttotal: 3m 37s\tremaining: 9.06s\n",
      "384:\tlearn: 0.1376501\ttest: 1.1028630\tbest: 0.6103328 (27)\ttotal: 3m 38s\tremaining: 8.49s\n",
      "385:\tlearn: 0.1371337\ttest: 1.1048892\tbest: 0.6103328 (27)\ttotal: 3m 39s\tremaining: 7.95s\n",
      "386:\tlearn: 0.1368702\ttest: 1.1070657\tbest: 0.6103328 (27)\ttotal: 3m 39s\tremaining: 7.38s\n",
      "387:\tlearn: 0.1366677\ttest: 1.1080319\tbest: 0.6103328 (27)\ttotal: 3m 40s\tremaining: 6.83s\n",
      "388:\tlearn: 0.1363221\ttest: 1.1094292\tbest: 0.6103328 (27)\ttotal: 3m 41s\tremaining: 6.25s\n",
      "389:\tlearn: 0.1360233\ttest: 1.1103329\tbest: 0.6103328 (27)\ttotal: 3m 42s\tremaining: 5.7s\n",
      "390:\tlearn: 0.1358034\ttest: 1.1115205\tbest: 0.6103328 (27)\ttotal: 3m 43s\tremaining: 5.14s\n",
      "391:\tlearn: 0.1355427\ttest: 1.1121816\tbest: 0.6103328 (27)\ttotal: 3m 43s\tremaining: 4.57s\n",
      "392:\tlearn: 0.1352193\ttest: 1.1131446\tbest: 0.6103328 (27)\ttotal: 3m 44s\tremaining: 4s\n",
      "393:\tlearn: 0.1347593\ttest: 1.1146857\tbest: 0.6103328 (27)\ttotal: 3m 45s\tremaining: 3.43s\n",
      "394:\tlearn: 0.1343464\ttest: 1.1176603\tbest: 0.6103328 (27)\ttotal: 3m 45s\tremaining: 2.85s\n",
      "395:\tlearn: 0.1340919\ttest: 1.1180048\tbest: 0.6103328 (27)\ttotal: 3m 46s\tremaining: 2.29s\n",
      "396:\tlearn: 0.1338239\ttest: 1.1185584\tbest: 0.6103328 (27)\ttotal: 3m 46s\tremaining: 1.71s\n",
      "397:\tlearn: 0.1334304\ttest: 1.1202309\tbest: 0.6103328 (27)\ttotal: 3m 48s\tremaining: 1.15s\n",
      "398:\tlearn: 0.1332038\ttest: 1.1214273\tbest: 0.6103328 (27)\ttotal: 3m 48s\tremaining: 573ms\n",
      "399:\tlearn: 0.1330267\ttest: 1.1225207\tbest: 0.6103328 (27)\ttotal: 3m 49s\tremaining: 0us\n",
      "bestTest = 0.6103327799\n",
      "bestIteration = 27\n",
      "Shrink model to first 28 iterations.\n",
      "0.053683996475293164\n"
     ]
    }
   ],
   "source": [
    "def catbcl_train_func(models, x_train, y_train, x_val, y_val):\n",
    "    for model in models:\n",
    "        name = model.__class__.__name__\n",
    "        print(name + \": \")\n",
    "        \n",
    "        model.fit(x_train, y_train, eval_set=(x_val, y_val))\n",
    "        # print(\"Обучение завершено!\")\n",
    "        y_pred = model.predict(x_val)\n",
    "\n",
    "        # f1 = f1_score(Y_test, Y_pred)\n",
    "        precision = precision_score(y_val, y_pred)\n",
    "\n",
    "        # print(\"-\" * 10)\n",
    "        # print(f1)\n",
    "        print(precision)\n",
    "\n",
    "        \n",
    "catbcl_train_func([catbcl], x_train, y_train, x_val, y_val)# svc_poly, svc_2nd_verse, gauss_nb, qda"
   ]
  },
  {
   "cell_type": "code",
   "execution_count": 21,
   "metadata": {},
   "outputs": [],
   "source": [
    "models = [gbcl, forest_19_5, forest_19_5_v2]"
   ]
  },
  {
   "cell_type": "code",
   "execution_count": 22,
   "metadata": {},
   "outputs": [
    {
     "name": "stdout",
     "output_type": "stream",
     "text": [
      "XGBClassifier: \n"
     ]
    },
    {
     "name": "stderr",
     "output_type": "stream",
     "text": [
      "c:\\Users\\Mat\\miniconda3\\envs\\ml\\lib\\site-packages\\xgboost\\sklearn.py:1224: UserWarning: The use of label encoder in XGBClassifier is deprecated and will be removed in a future release. To remove this warning, do the following: 1) Pass option use_label_encoder=False when constructing XGBClassifier object; and 2) Encode your labels (y) as integers starting with 0, i.e. 0, 1, 2, ..., [num_class - 1].\n",
      "  warnings.warn(label_encoder_deprecation_msg, UserWarning)\n",
      "c:\\Users\\Mat\\miniconda3\\envs\\ml\\lib\\site-packages\\xgboost\\data.py:250: FutureWarning: pandas.Int64Index is deprecated and will be removed from pandas in a future version. Use pandas.Index with the appropriate dtype instead.\n",
      "  elif isinstance(data.columns, (pd.Int64Index, pd.RangeIndex)):\n"
     ]
    },
    {
     "name": "stdout",
     "output_type": "stream",
     "text": [
      "0.021064896639304557\n",
      "----------\n",
      "RandomForestClassifier: \n",
      "0.11163522012578617\n",
      "----------\n",
      "RandomForestClassifier: \n",
      "0.13016759776536313\n",
      "----------\n"
     ]
    }
   ],
   "source": [
    "for model in models:\n",
    "    name = model.__class__.__name__\n",
    "    print(name + \": \")\n",
    "    \n",
    "    model.fit(x_train, y_train)\n",
    "    # print(\"Обучение завершено!\")\n",
    "\n",
    "    y_pred = model.predict(x_val)\n",
    "    precision = precision_score(y_val, y_pred)\n",
    "    \n",
    "    print(precision)\n",
    "    print(\"-\" * 10)"
   ]
  },
  {
   "cell_type": "markdown",
   "metadata": {},
   "source": [
    "Биткоины, информация о городах +0.1"
   ]
  },
  {
   "cell_type": "markdown",
   "metadata": {},
   "source": [
    "---"
   ]
  },
  {
   "cell_type": "code",
   "execution_count": 23,
   "metadata": {},
   "outputs": [
    {
     "data": {
      "text/plain": [
       "Index(['label', 'hex_lat', 'hex_lon', 'f1', 'f2', 'f3', 'f4', 'f5', 'f6', 'f7',\n",
       "       'f8', 'f9', 'f10', 'f11', 'f12', 'f13', 'f14', 'f15', 'f16', 'f17',\n",
       "       'f18', 'f19', 'f20', 'f21', 'f22', 'f23', 'f24', 'f25', 'f26', 'f27',\n",
       "       'f28', 'f29', 'f30', 'dollar', 'bitcoin', 'subject_score', 'city_score',\n",
       "       'population'],\n",
       "      dtype='object')"
      ]
     },
     "execution_count": 23,
     "metadata": {},
     "output_type": "execute_result"
    }
   ],
   "source": [
    "full_train.columns"
   ]
  },
  {
   "cell_type": "markdown",
   "metadata": {},
   "source": [
    "Оставим f-ки"
   ]
  },
  {
   "cell_type": "code",
   "execution_count": 27,
   "metadata": {},
   "outputs": [],
   "source": [
    "train_data_1 = full_train.drop(['hex_lat', 'hex_lon', 'dollar', 'bitcoin', 'subject_score', 'city_score',\n",
    "       'population'], axis=1)\n",
    "test_data_1 = full_test.drop(['hex_lat', 'hex_lon', 'dollar', 'bitcoin', 'subject_score', 'city_score',\n",
    "       'population'], axis=1)\n",
    "\n",
    "x_train_1 = train_data_1.drop('label', axis=1)\n",
    "y_train_1 = train_data_1['label']\n",
    "\n",
    "x_val_1 = test_data_1.drop('label', axis=1)\n",
    "y_val_1 = test_data_1['label']"
   ]
  },
  {
   "cell_type": "code",
   "execution_count": 28,
   "metadata": {},
   "outputs": [
    {
     "data": {
      "text/plain": [
       "0.10738255033557047"
      ]
     },
     "execution_count": 28,
     "metadata": {},
     "output_type": "execute_result"
    }
   ],
   "source": [
    "train_1_forest_19_5_v2 = RandomForestClassifier(max_depth = 19, n_estimators = 500, criterion = \"gini\", n_jobs = 5,\n",
    "                                         min_samples_leaf=5, class_weight=class_weights, min_samples_split=10, random_state=404)\n",
    "\n",
    "train_1_forest_19_5_v2.fit(x_train_1, y_train_1)\n",
    "\n",
    "train_1_y_pred = train_1_forest_19_5_v2.predict(x_val_1)\n",
    "precision_score(y_val_1, train_1_y_pred)"
   ]
  },
  {
   "cell_type": "markdown",
   "metadata": {},
   "source": [
    "Мы молодцы"
   ]
  },
  {
   "cell_type": "markdown",
   "metadata": {},
   "source": [
    "Оставим 'subject_score', 'city_score', 'population' и f-ки"
   ]
  },
  {
   "cell_type": "code",
   "execution_count": 31,
   "metadata": {},
   "outputs": [],
   "source": [
    "train_data_2 = full_train.drop(['hex_lat', 'hex_lon', 'dollar', 'bitcoin'], axis=1)\n",
    "test_data_2 = full_test.drop(['hex_lat', 'hex_lon', 'dollar', 'bitcoin'], axis=1)\n",
    "\n",
    "x_train_2 = train_data_2.drop('label', axis=1)\n",
    "y_train_2 = train_data_2['label']\n",
    "\n",
    "x_val_2 = test_data_2.drop('label', axis=1)\n",
    "y_val_2 = test_data_2['label']"
   ]
  },
  {
   "cell_type": "code",
   "execution_count": 32,
   "metadata": {},
   "outputs": [
    {
     "data": {
      "text/plain": [
       "0.10830527497194165"
      ]
     },
     "execution_count": 32,
     "metadata": {},
     "output_type": "execute_result"
    }
   ],
   "source": [
    "train_2_forest_19_5_v2 = RandomForestClassifier(max_depth = 19, n_estimators = 500, criterion = \"gini\", n_jobs = 5,\n",
    "                                         min_samples_leaf=5, class_weight=class_weights, min_samples_split=10, random_state=404)\n",
    "\n",
    "train_2_forest_19_5_v2.fit(x_train_2, y_train_2)\n",
    "\n",
    "train_2_y_pred = train_2_forest_19_5_v2.predict(x_val_2)\n",
    "precision_score(y_val_2, train_2_y_pred)"
   ]
  },
  {
   "cell_type": "markdown",
   "metadata": {},
   "source": [
    "От доллара и биткоина мало что зависит"
   ]
  },
  {
   "cell_type": "markdown",
   "metadata": {},
   "source": [
    "---"
   ]
  },
  {
   "cell_type": "markdown",
   "metadata": {},
   "source": [
    "Оставим 'dollar', 'bitcoin' и f-ки"
   ]
  },
  {
   "cell_type": "code",
   "execution_count": 33,
   "metadata": {},
   "outputs": [],
   "source": [
    "train_data_3 = full_train.drop(['hex_lat', 'hex_lon', 'subject_score', 'city_score', 'population'], axis=1)\n",
    "test_data_3 = full_test.drop(['hex_lat', 'hex_lon', 'subject_score', 'city_score', 'population'], axis=1)\n",
    "\n",
    "x_train_3 = train_data_3.drop('label', axis=1)\n",
    "y_train_3 = train_data_3['label']\n",
    "\n",
    "x_val_3 = test_data_3.drop('label', axis=1)\n",
    "y_val_3 = test_data_3['label']"
   ]
  },
  {
   "cell_type": "code",
   "execution_count": 34,
   "metadata": {},
   "outputs": [
    {
     "data": {
      "text/plain": [
       "0.11472742066720912"
      ]
     },
     "execution_count": 34,
     "metadata": {},
     "output_type": "execute_result"
    }
   ],
   "source": [
    "train_3_forest_19_5_v2 = RandomForestClassifier(max_depth = 19, n_estimators = 500, criterion = \"gini\", n_jobs = 5,\n",
    "                                         min_samples_leaf=5, class_weight=class_weights, min_samples_split=10, random_state=404)\n",
    "\n",
    "train_3_forest_19_5_v2.fit(x_train_3, y_train_3)\n",
    "\n",
    "train_3_y_pred = train_3_forest_19_5_v2.predict(x_val_3)\n",
    "precision_score(y_val_3, train_3_y_pred)"
   ]
  },
  {
   "cell_type": "markdown",
   "metadata": {},
   "source": [
    "---"
   ]
  },
  {
   "cell_type": "markdown",
   "metadata": {},
   "source": [
    "Отставим 'hex_lat', 'hex_lon' )))"
   ]
  },
  {
   "cell_type": "code",
   "execution_count": 35,
   "metadata": {},
   "outputs": [],
   "source": [
    "train_data_4 = full_train.drop(['dollar', 'bitcoin', 'subject_score', 'city_score',\n",
    "       'population'], axis=1)\n",
    "test_data_4 = full_test.drop(['dollar', 'bitcoin', 'subject_score', 'city_score',\n",
    "       'population'], axis=1)\n",
    "\n",
    "x_train_4 = train_data_4.drop('label', axis=1)\n",
    "y_train_4 = train_data_4['label']\n",
    "\n",
    "x_val_4 = test_data_4.drop('label', axis=1)\n",
    "y_val_4 = test_data_4['label']"
   ]
  },
  {
   "cell_type": "code",
   "execution_count": 36,
   "metadata": {},
   "outputs": [
    {
     "data": {
      "text/plain": [
       "0.11705831157528286"
      ]
     },
     "execution_count": 36,
     "metadata": {},
     "output_type": "execute_result"
    }
   ],
   "source": [
    "train_4_forest_19_5_v2 = RandomForestClassifier(max_depth = 19, n_estimators = 500, criterion = \"gini\", n_jobs = 5,\n",
    "                                         min_samples_leaf=5, class_weight=class_weights, min_samples_split=10, random_state=404)\n",
    "\n",
    "train_4_forest_19_5_v2.fit(x_train_4, y_train_4)\n",
    "\n",
    "train_4_y_pred = train_4_forest_19_5_v2.predict(x_val_4)\n",
    "precision_score(y_val_4, train_4_y_pred)"
   ]
  },
  {
   "cell_type": "markdown",
   "metadata": {},
   "source": [
    "---"
   ]
  },
  {
   "cell_type": "markdown",
   "metadata": {},
   "source": [
    "Минус биткоин и доллар"
   ]
  },
  {
   "cell_type": "code",
   "execution_count": 40,
   "metadata": {},
   "outputs": [],
   "source": [
    "train_data_5 = full_train.drop(['dollar', 'bitcoin'], axis=1)\n",
    "test_data_5 = full_test.drop(['dollar', 'bitcoin'], axis=1)\n",
    "\n",
    "x_train_5 = train_data_5.drop('label', axis=1)\n",
    "y_train_5 = train_data_5['label']\n",
    "\n",
    "x_val_5 = test_data_5.drop('label', axis=1)\n",
    "y_val_5 = test_data_5['label']"
   ]
  },
  {
   "cell_type": "code",
   "execution_count": 41,
   "metadata": {},
   "outputs": [
    {
     "data": {
      "text/plain": [
       "0.11536748329621381"
      ]
     },
     "execution_count": 41,
     "metadata": {},
     "output_type": "execute_result"
    }
   ],
   "source": [
    "train_5_forest_19_5_v2 = RandomForestClassifier(max_depth = 19, n_estimators = 500, criterion = \"gini\", n_jobs = 5,\n",
    "                                         min_samples_leaf=5, class_weight=class_weights, min_samples_split=10, random_state=404)\n",
    "\n",
    "train_5_forest_19_5_v2.fit(x_train_5, y_train_5)\n",
    "\n",
    "train_5_y_pred = train_5_forest_19_5_v2.predict(x_val_5)\n",
    "precision_score(y_val_5, train_5_y_pred)"
   ]
  },
  {
   "cell_type": "markdown",
   "metadata": {},
   "source": [
    "---"
   ]
  },
  {
   "cell_type": "markdown",
   "metadata": {},
   "source": [
    "Уберем 'subject_score', 'city_score', 'population'"
   ]
  },
  {
   "cell_type": "code",
   "execution_count": 42,
   "metadata": {},
   "outputs": [],
   "source": [
    "train_data_6 = full_train.drop(['subject_score', 'city_score', 'population'], axis=1)\n",
    "test_data_6 = full_test.drop(['subject_score', 'city_score', 'population'], axis=1)\n",
    "\n",
    "x_train_6 = train_data_6.drop('label', axis=1)\n",
    "y_train_6 = train_data_6['label']\n",
    "\n",
    "x_val_6 = test_data_6.drop('label', axis=1)\n",
    "y_val_6 = test_data_6['label']"
   ]
  },
  {
   "cell_type": "code",
   "execution_count": 43,
   "metadata": {},
   "outputs": [
    {
     "data": {
      "text/plain": [
       "0.12640283520378026"
      ]
     },
     "execution_count": 43,
     "metadata": {},
     "output_type": "execute_result"
    }
   ],
   "source": [
    "train_6_forest_19_5_v2 = RandomForestClassifier(max_depth = 19, n_estimators = 500, criterion = \"gini\", n_jobs = 5,\n",
    "                                         min_samples_leaf=5, class_weight=class_weights, min_samples_split=10, random_state=404)\n",
    "\n",
    "train_6_forest_19_5_v2.fit(x_train_6, y_train_6)\n",
    "\n",
    "train_6_y_pred = train_6_forest_19_5_v2.predict(x_val_6)\n",
    "precision_score(y_val_6, train_6_y_pred)"
   ]
  },
  {
   "cell_type": "markdown",
   "metadata": {},
   "source": [
    "---"
   ]
  },
  {
   "cell_type": "markdown",
   "metadata": {},
   "source": [
    "Уберем subject_score"
   ]
  },
  {
   "cell_type": "code",
   "execution_count": 45,
   "metadata": {},
   "outputs": [],
   "source": [
    "train_data_7 = full_train.drop(['subject_score'], axis=1)\n",
    "test_data_7 = full_test.drop(['subject_score'], axis=1)\n",
    "\n",
    "x_train_7 = train_data_7.drop('label', axis=1)\n",
    "y_train_7 = train_data_7['label']\n",
    "\n",
    "x_val_7 = test_data_7.drop('label', axis=1)\n",
    "y_val_7 = test_data_7['label']"
   ]
  },
  {
   "cell_type": "code",
   "execution_count": 46,
   "metadata": {},
   "outputs": [
    {
     "data": {
      "text/plain": [
       "0.1329288472145615"
      ]
     },
     "execution_count": 46,
     "metadata": {},
     "output_type": "execute_result"
    }
   ],
   "source": [
    "train_7_forest_19_5_v2 = RandomForestClassifier(max_depth = 19, n_estimators = 500, criterion = \"gini\", n_jobs = 5,\n",
    "                                         min_samples_leaf=5, class_weight=class_weights, min_samples_split=10, random_state=404)\n",
    "\n",
    "train_7_forest_19_5_v2.fit(x_train_7, y_train_7)\n",
    "\n",
    "train_7_y_pred = train_7_forest_19_5_v2.predict(x_val_7)\n",
    "precision_score(y_val_7, train_7_y_pred)"
   ]
  },
  {
   "cell_type": "markdown",
   "metadata": {},
   "source": [
    "### Лучший результат выходит только при использовании всех наших колонок."
   ]
  }
 ],
 "metadata": {
  "kernelspec": {
   "display_name": "Python 3.10.5 ('ml')",
   "language": "python",
   "name": "python3"
  },
  "language_info": {
   "codemirror_mode": {
    "name": "ipython",
    "version": 3
   },
   "file_extension": ".py",
   "mimetype": "text/x-python",
   "name": "python",
   "nbconvert_exporter": "python",
   "pygments_lexer": "ipython3",
   "version": "3.10.5"
  },
  "orig_nbformat": 4,
  "vscode": {
   "interpreter": {
    "hash": "c2776cffee99a81fa89b60a6994911a4b5d5bd44308ad1ca8b01fad4c316ba78"
   }
  }
 },
 "nbformat": 4,
 "nbformat_minor": 2
}
